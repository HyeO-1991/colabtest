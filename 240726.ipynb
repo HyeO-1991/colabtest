{
  "nbformat": 4,
  "nbformat_minor": 0,
  "metadata": {
    "colab": {
      "provenance": [],
      "authorship_tag": "ABX9TyNSnwiWe0UHFz1uZes19Uxw",
      "include_colab_link": true
    },
    "kernelspec": {
      "name": "python3",
      "display_name": "Python 3"
    },
    "language_info": {
      "name": "python"
    }
  },
  "cells": [
    {
      "cell_type": "markdown",
      "metadata": {
        "id": "view-in-github",
        "colab_type": "text"
      },
      "source": [
        "<a href=\"https://colab.research.google.com/github/HyeO-1991/colabtest/blob/main/240726.ipynb\" target=\"_parent\"><img src=\"https://colab.research.google.com/assets/colab-badge.svg\" alt=\"Open In Colab\"/></a>"
      ]
    },
    {
      "cell_type": "code",
      "execution_count": null,
      "metadata": {
        "colab": {
          "base_uri": "https://localhost:8080/"
        },
        "id": "FLDf6ZkpWu1r",
        "outputId": "5ee4966d-281d-43d7-fd1f-f00c0df29a3e"
      },
      "outputs": [
        {
          "output_type": "stream",
          "name": "stdout",
          "text": [
            "정수: 15\n",
            "정수: 21\n",
            "큰 수:  21\n"
          ]
        }
      ],
      "source": [
        "# 예제 51\n",
        "a = int(input(\"정수: \"))\n",
        "b = int(input(\"정수: \"))\n",
        "r = 0\n",
        "def func(a, b):\n",
        "    if a > b:\n",
        "        r = a\n",
        "        return r\n",
        "    else:\n",
        "        r = b\n",
        "        return r\n",
        "print(\"큰 수: \", func(a,b))"
      ]
    },
    {
      "cell_type": "code",
      "source": [
        "# 예제 52\n",
        "a = int(input(\"정수: \"))\n",
        "b = int(input(\"정수: \"))\n",
        "c = int(input(\"정수: \"))\n",
        "r = 0\n",
        "def func(a, b, c):\n",
        "    if a > b and a > c:\n",
        "        r = a\n",
        "        return r\n",
        "    elif b > a and b > c:\n",
        "        r = b\n",
        "        return r\n",
        "    elif c > a and c > b:\n",
        "        r = c\n",
        "        return r\n",
        "print(\"가장 큰 수: \", func(a, b, c))"
      ],
      "metadata": {
        "colab": {
          "base_uri": "https://localhost:8080/"
        },
        "id": "AOPc8i05YzQ5",
        "outputId": "a71af8e9-9b86-4989-ce1b-776c2249de9d"
      },
      "execution_count": null,
      "outputs": [
        {
          "output_type": "stream",
          "name": "stdout",
          "text": [
            "정수: 15\n",
            "정수: 30\n",
            "정수: 50\n",
            "가장 큰 수:  50\n"
          ]
        }
      ]
    },
    {
      "cell_type": "code",
      "source": [
        "# 예제 53\n",
        "n = int(input(\"정수: \"))\n",
        "def func(n):\n",
        "    for i in range(1, n+1):\n",
        "        print(f'{i}의 약수: ', end='')\n",
        "        for j in range(1, n+1):\n",
        "            if i % j == 0:\n",
        "                print(j, end=' ')\n",
        "        print()\n",
        "func(n)"
      ],
      "metadata": {
        "colab": {
          "base_uri": "https://localhost:8080/"
        },
        "id": "JNurcWQHiRh1",
        "outputId": "6f28ac12-5059-4d78-99a6-3b56dd02d36f"
      },
      "execution_count": null,
      "outputs": [
        {
          "output_type": "stream",
          "name": "stdout",
          "text": [
            "정수: 10\n",
            "1의 약수: 1 \n",
            "2의 약수: 1 2 \n",
            "3의 약수: 1 3 \n",
            "4의 약수: 1 2 4 \n",
            "5의 약수: 1 5 \n",
            "6의 약수: 1 2 3 6 \n",
            "7의 약수: 1 7 \n",
            "8의 약수: 1 2 4 8 \n",
            "9의 약수: 1 3 9 \n",
            "10의 약수: 1 2 5 10 \n"
          ]
        }
      ]
    },
    {
      "cell_type": "code",
      "source": [
        "# 예제 54\n",
        "n = int(input(\"정수: \"))\n",
        "def sum(n):\n",
        "    sum = 0\n",
        "    for i in range(1, n+1):\n",
        "        sum = sum + i\n",
        "    return sum\n",
        "print(\"합계:\", sum(n))"
      ],
      "metadata": {
        "colab": {
          "base_uri": "https://localhost:8080/"
        },
        "id": "ejkbcVElj8N7",
        "outputId": "137873e3-8796-42ae-8eab-82dae7216daf"
      },
      "execution_count": null,
      "outputs": [
        {
          "output_type": "stream",
          "name": "stdout",
          "text": [
            "정수: 20\n",
            "합계: 210\n"
          ]
        }
      ]
    },
    {
      "cell_type": "code",
      "source": [
        "# 예제 55\n",
        "n = int(input(\"정수: \"))\n",
        "def fibo(n):\n",
        "    a = 1\n",
        "    b = 1\n",
        "    for i in range(3, n+1):\n",
        "        c = a + b\n",
        "        a = b\n",
        "        b = c\n",
        "    return c\n",
        "print(fibo(n))"
      ],
      "metadata": {
        "colab": {
          "base_uri": "https://localhost:8080/"
        },
        "id": "LzgjVSEwtud8",
        "outputId": "d11b78b2-4f81-45e5-a7c1-e7ced3024148"
      },
      "execution_count": null,
      "outputs": [
        {
          "output_type": "stream",
          "name": "stdout",
          "text": [
            "정수: 10\n",
            "55\n"
          ]
        }
      ]
    },
    {
      "cell_type": "code",
      "source": [
        "# 과제 35\n",
        "a = int(input(\"정수: \"))\n",
        "b = int(input(\"정수: \"))\n",
        "def min(a, b):\n",
        "    if a > b:\n",
        "        r = b\n",
        "        return r\n",
        "    else:\n",
        "        r = a\n",
        "        return r\n",
        "print(\"작은 수:\", min(a, b))"
      ],
      "metadata": {
        "colab": {
          "base_uri": "https://localhost:8080/"
        },
        "id": "zRyvsSzC0HW3",
        "outputId": "28fe82a7-87ba-447a-b3c8-7d3baea6ab91"
      },
      "execution_count": null,
      "outputs": [
        {
          "output_type": "stream",
          "name": "stdout",
          "text": [
            "정수: 16\n",
            "정수: 40\n",
            "작은 수: 16\n"
          ]
        }
      ]
    },
    {
      "cell_type": "code",
      "source": [
        "# 과제 36\n",
        "n = int(input(\"정수: \"))\n",
        "def prime(n):\n",
        "    div = 0\n",
        "    for i in range(2, n):\n",
        "        if n % i == 0:\n",
        "            div = div + 1\n",
        "            break\n",
        "    if div == 0 or n == 2:\n",
        "        return \"소수\"\n",
        "    else:\n",
        "        return \"소수 아님\"\n",
        "for i in range(2, n+1):\n",
        "    print(f'{i} : {prime(i)}')"
      ],
      "metadata": {
        "colab": {
          "base_uri": "https://localhost:8080/"
        },
        "id": "WuHtvLwc4Aqp",
        "outputId": "02b2b974-0fd5-439c-e47a-fe6f0d402b6a"
      },
      "execution_count": null,
      "outputs": [
        {
          "output_type": "stream",
          "name": "stdout",
          "text": [
            "정수: 10\n",
            "2 : 소수\n",
            "3 : 소수\n",
            "4 : 소수 아님\n",
            "5 : 소수\n",
            "6 : 소수 아님\n",
            "7 : 소수\n",
            "8 : 소수 아님\n",
            "9 : 소수 아님\n",
            "10 : 소수 아님\n"
          ]
        }
      ]
    },
    {
      "cell_type": "code",
      "source": [
        "# 과제 37\n",
        "n = int(input(\"정수: \"))\n",
        "def fact(n):\n",
        "    mul = 1\n",
        "    for i in range(n, 0, -1):\n",
        "        mul = mul*i\n",
        "    return mul\n",
        "print(f'{n}!: {fact(n)}')"
      ],
      "metadata": {
        "colab": {
          "base_uri": "https://localhost:8080/"
        },
        "id": "Eporlw_D-J1Y",
        "outputId": "aa1e3eae-9650-4745-eeb9-2e03e08efe62"
      },
      "execution_count": null,
      "outputs": [
        {
          "output_type": "stream",
          "name": "stdout",
          "text": [
            "정수: 10\n",
            "10!: 3628800\n"
          ]
        }
      ]
    },
    {
      "cell_type": "code",
      "source": [
        "# 프로그램 1\n",
        "n1 = int(input(\"정수: \"))\n",
        "n2 = int(input(\"정수: \"))\n",
        "code = input()\n",
        "def value(n1, n2, code):\n",
        "    if code == '+':\n",
        "        v = n1+n2\n",
        "        return v\n",
        "    if code == '-':\n",
        "        v = n1-n2\n",
        "        return v\n",
        "    if code == '*':\n",
        "        v = n1*n2\n",
        "        return v\n",
        "    if code == '/':\n",
        "        v = n1/n2\n",
        "        return v\n",
        "    if code == '%':\n",
        "        v = n1%n2\n",
        "        return v\n",
        "    if code == '//':\n",
        "        v = n1//n2\n",
        "        return v\n",
        "value(n1, n2, code)"
      ],
      "metadata": {
        "colab": {
          "base_uri": "https://localhost:8080/"
        },
        "id": "DlHIyL6Kgjlt",
        "outputId": "2c046129-f1ab-4727-dae0-e8c0f20a478d"
      },
      "execution_count": null,
      "outputs": [
        {
          "name": "stdout",
          "output_type": "stream",
          "text": [
            "정수: 100\n",
            "정수: 7\n",
            "//\n"
          ]
        },
        {
          "output_type": "execute_result",
          "data": {
            "text/plain": [
              "14"
            ]
          },
          "metadata": {},
          "execution_count": 208
        }
      ]
    },
    {
      "cell_type": "code",
      "source": [
        "# 프로그램 2\n",
        "goal = int(input(\"목적: \"))\n",
        "if goal == 1:\n",
        "    n1 = int(input(\"밑변: \"))\n",
        "    n2 = int(input(\"높이: \"))\n",
        "    def triangle_area(n1, n2):\n",
        "        v = n1*n2/2\n",
        "        return v\n",
        "    print(\"삼각형의 넓이:\", triangle_area(n1, n2))\n",
        "if goal == 2:\n",
        "    n1 = int(input(\"가로: \"))\n",
        "    n1 = int(input(\"세로: \"))\n",
        "    def square_area(n1, n2):\n",
        "        v = n1*n2\n",
        "        return v\n",
        "    print(\"사각형의 넓이:\", square_area(n1, n2))\n",
        "if goal == 3:\n",
        "    n1 = int(input(\"반지름: \"))\n",
        "    def circle_area(n1):\n",
        "        v = n1*n1*3.14\n",
        "        return v\n",
        "    print(\"원의 넓이:\", circle_area(n1))\n",
        "if goal == 4:\n",
        "    n1 = int(input(\"반지름: \"))\n",
        "    def circle_length(n1):\n",
        "        v = n1*2*3.14\n",
        "        return v\n",
        "    print(\"원의 둘레:\", circle_length(n1))"
      ],
      "metadata": {
        "colab": {
          "base_uri": "https://localhost:8080/"
        },
        "id": "HU8OlgSlqG8F",
        "outputId": "df0be730-ca37-452c-9d8a-7f2f47d89785"
      },
      "execution_count": null,
      "outputs": [
        {
          "output_type": "stream",
          "name": "stdout",
          "text": [
            "목적: 4\n",
            "반지름: 7\n",
            "원의 둘레: 43.96\n"
          ]
        }
      ]
    },
    {
      "cell_type": "code",
      "source": [
        "# 프로그램 3\n",
        "count = int(input(\"몇 개의 숫자를 입력하시겠어요?: \"))\n",
        "lst =[]\n",
        "\n",
        "for i in range(1, count+1):\n",
        "    n = int(input(f'{i}번째 숫자 입력: '))\n",
        "    lst.append(n)\n",
        "\n",
        "max = lst[0]\n",
        "for i in range(1, count):\n",
        "    if lst[i] > max:\n",
        "        max = lst[i]\n",
        "\n",
        "min = lst[0]\n",
        "for i in range(1, count):\n",
        "    if lst[i] < min:\n",
        "        min = lst[i]\n",
        "\n",
        "def judgment(n):\n",
        "    for i in range(0, count):\n",
        "        if lst[i] % 2 == 0 and lst[i] > 0:\n",
        "            print(f'{lst[i]} >> 짝수 / 양수')\n",
        "        if lst[i] % 2 != 0 and lst[i] > 0:\n",
        "            print(f'{lst[i]} >> 홀수 / 양수')\n",
        "        if lst[i] % 2 == 0 and lst[i] < 0:\n",
        "            print(f'{lst[i]} >> 짝수 / 음수')\n",
        "        if lst[i] % 2 != 0 and lst[i] < 0:\n",
        "            print(f'{lst[i]} >> 홀수 / 음수')\n",
        "        if lst[i] == 0:\n",
        "            print(f'0')\n",
        "print(\"최대값:\", max)\n",
        "print(\"최소값:\", min)\n",
        "judgment(lst[i])"
      ],
      "metadata": {
        "id": "Bzsa-UTNyJrO",
        "colab": {
          "base_uri": "https://localhost:8080/"
        },
        "outputId": "6d1a5f4c-1eea-40c1-cf41-d883776b8803"
      },
      "execution_count": null,
      "outputs": [
        {
          "output_type": "stream",
          "name": "stdout",
          "text": [
            "몇 개의 숫자를 입력하시겠어요?: 5\n",
            "1번째 숫자 입력: 9\n",
            "2번째 숫자 입력: 20\n",
            "3번째 숫자 입력: 0\n",
            "4번째 숫자 입력: -40\n",
            "5번째 숫자 입력: -5\n",
            "최대값: 20\n",
            "최소값: -40\n",
            "9 >> 홀수 / 양수\n",
            "20 >> 짝수 / 양수\n",
            "0\n",
            "-40 >> 짝수 / 음수\n",
            "-5 >> 홀수 / 음수\n"
          ]
        }
      ]
    },
    {
      "cell_type": "code",
      "source": [
        "# 프로그램 4\n",
        "n1 = int(input(\"숫자 1: \"))\n",
        "n2 = int(input(\"숫자 2: \"))\n",
        "n3 = int(input(\"숫자 3: \"))\n",
        "def sum(n1, n2, n3):\n",
        "    n = 0\n",
        "    if n1 < n2 and n2 < n3:\n",
        "        for i in range(n1, n3+1):\n",
        "            n = n + i\n",
        "        return n-n1-n2-n3\n",
        "    else:\n",
        "        return \"숫자를 오름차순으로 입력하세요.\"\n",
        "sum(n1, n2, n3)"
      ],
      "metadata": {
        "colab": {
          "base_uri": "https://localhost:8080/"
        },
        "id": "BjoCMl4h0h_p",
        "outputId": "578af257-abbc-432a-c8d1-c2461af77435"
      },
      "execution_count": null,
      "outputs": [
        {
          "name": "stdout",
          "output_type": "stream",
          "text": [
            "숫자 1: 5\n",
            "숫자 2: 10\n",
            "숫자 3: 20\n"
          ]
        },
        {
          "output_type": "execute_result",
          "data": {
            "text/plain": [
              "165"
            ]
          },
          "metadata": {},
          "execution_count": 235
        }
      ]
    },
    {
      "cell_type": "code",
      "source": [
        "n1 = int(input(\"숫자 1: \"))\n",
        "n2 = int(input(\"숫자 2: \"))\n",
        "n3 = int(input(\"숫자 3: \"))\n",
        "def sum(n1, n2, n3):\n",
        "    n = 0\n",
        "    if n1 < n2 and n2 < n3:\n",
        "        for i in range(n1, n3+1):\n",
        "            n = n + i\n",
        "        return n-n1-n2-n3\n",
        "    else:\n",
        "        return \"숫자를 오름차순으로 입력하세요.\"\n",
        "print(sum(n1, n2, n3))"
      ],
      "metadata": {
        "id": "hF0Ibi9oOCZw",
        "colab": {
          "base_uri": "https://localhost:8080/"
        },
        "outputId": "0199986a-acab-4b5d-91b1-0d037512f489"
      },
      "execution_count": null,
      "outputs": [
        {
          "output_type": "stream",
          "name": "stdout",
          "text": [
            "숫자 1: 4\n",
            "숫자 2: 2\n",
            "숫자 3: 1\n",
            "숫자를 오름차순으로 입력하세요.\n"
          ]
        }
      ]
    },
    {
      "cell_type": "code",
      "source": [
        "# 프로그램 5\n",
        "type = int(input(\"도형 \"))\n",
        "star = \"*\"\n",
        "blank = ' '\n",
        "def figure(type):\n",
        "    print()\n",
        "    if type == 1:\n",
        "        for i in range(1, 7):\n",
        "            print(i*star)\n",
        "    if type == 2:\n",
        "        for i in range(5, -1, -1):\n",
        "            print(i*blank + (6-i)*star)\n",
        "    if type == 3:\n",
        "        for i in range(6, 0, -1):\n",
        "            print(i*star)\n",
        "    if type == 4:\n",
        "        for i in range(0, 6):\n",
        "            print(i*blank + (6-i)*star)\n",
        "    if type == 5:\n",
        "        n = -1\n",
        "        for i in range(5, -1, -1):\n",
        "            n = n + 2\n",
        "            print(i*blank + n*star)\n",
        "    if type == 6:\n",
        "        n = 13\n",
        "        for i in range(0 , 6):\n",
        "            n = n-2\n",
        "            print(i*blank + n*star)\n",
        "    if type == 7:\n",
        "        n = -1\n",
        "        m = 7\n",
        "        for i in range(5, 2, -1):\n",
        "            n = n + 2\n",
        "            print(i*blank + n*star)\n",
        "        for j in range(3, 6):\n",
        "            m = m - 2\n",
        "            print(j*blank + m*star)\n",
        "figure(type)"
      ],
      "metadata": {
        "colab": {
          "base_uri": "https://localhost:8080/"
        },
        "id": "VZ-GS2fTBeGP",
        "outputId": "3dcff09e-7cb3-41a8-a725-c7de9a84a79a"
      },
      "execution_count": null,
      "outputs": [
        {
          "output_type": "stream",
          "name": "stdout",
          "text": [
            "도형 7\n",
            "\n",
            "     *\n",
            "    ***\n",
            "   *****\n",
            "   *****\n",
            "    ***\n",
            "     *\n"
          ]
        }
      ]
    },
    {
      "cell_type": "code",
      "source": [
        "# 프로그램 7\n",
        "round = 0\n",
        "strike = 0\n",
        "ball = 0\n",
        "while round < 9:                           # 게임 실행 : 9 라운드까지\n",
        "    round = round + 1                      # 라운드 전환\n",
        "    print(f'      [ {round} Round ]')\n",
        "    import random                          # 랜덤가챠를 해봅시다 (0부터 9까지 중복없이 3개 숫자)\n",
        "    lst = []\n",
        "    for i in range(3):\n",
        "        n = random.randint(0, 9)\n",
        "        while n in lst:\n",
        "            n = random.randint(0, 9)\n",
        "        lst.append(n)\n",
        "\n",
        "    n1 = int(input(\"Enter number 0 ~ 9 : \"))    # 본인이 원하는 숫자 3개 입력\n",
        "    n2 = int(input(\"Enter number 0 ~ 9 : \"))\n",
        "    n3 = int(input(\"Enter number 0 ~ 9 : \"))\n",
        "    if n1 == lst[0]:                            # 스트라이크 조건 설정 및 갯수 누적 방법\n",
        "        strike = strike + 1\n",
        "    if n2 == lst[1]:\n",
        "        strike = strike + 1\n",
        "    if n3 == lst[2]:\n",
        "        strike = strike + 1\n",
        "    if n1 in lst and n1 != lst[0]:              # 볼 조건 설정 및 갯수 누적 방법\n",
        "        ball = ball + 1\n",
        "    if n2 in lst and n2 != lst[1]:\n",
        "        ball = ball + 1\n",
        "    if n3 in lst and n3 != lst[2]:\n",
        "        ball = ball + 1\n",
        "    if n1 not in lst and n2 not in lst and n3 not in lst:       # 아웃 조건 설정 (숫자 3개 모두 목록에 없을 경우)\n",
        "        print(f'        [ Out ]')\n",
        "    else:\n",
        "        print(f' [ Strike: {strike}, Ball: {ball} ]')            # 아웃 조건이 아니라면 스트라이크와 볼 카운트를 출력\n",
        "        strike = 0                                              # 출력 후 스트라이크와 볼 카운트 초기화\n",
        "        ball = 0\n",
        "    print()"
      ],
      "metadata": {
        "colab": {
          "base_uri": "https://localhost:8080/",
          "height": 612
        },
        "id": "mJPh3L5hrsXJ",
        "outputId": "547a7432-3e27-454f-e9a0-747dfd37e515"
      },
      "execution_count": null,
      "outputs": [
        {
          "output_type": "stream",
          "name": "stdout",
          "text": [
            "      [ 1 Round ]\n",
            "Enter number 0 ~ 9 : 1\n",
            "Enter number 0 ~ 9 : 3\n",
            "Enter number 0 ~ 9 : 8\n",
            "        [ Out ]\n",
            "\n",
            "      [ 2 Round ]\n",
            "Enter number 0 ~ 9 : 2\n",
            "Enter number 0 ~ 9 : 9\n",
            "Enter number 0 ~ 9 : 0\n",
            " [ Strike: 0, Ball: 2 ]\n",
            "\n",
            "      [ 3 Round ]\n"
          ]
        },
        {
          "output_type": "error",
          "ename": "KeyboardInterrupt",
          "evalue": "Interrupted by user",
          "traceback": [
            "\u001b[0;31m---------------------------------------------------------------------------\u001b[0m",
            "\u001b[0;31mKeyboardInterrupt\u001b[0m                         Traceback (most recent call last)",
            "\u001b[0;32m<ipython-input-11-4d2263b93522>\u001b[0m in \u001b[0;36m<cell line: 5>\u001b[0;34m()\u001b[0m\n\u001b[1;32m     14\u001b[0m         \u001b[0mlst\u001b[0m\u001b[0;34m.\u001b[0m\u001b[0mappend\u001b[0m\u001b[0;34m(\u001b[0m\u001b[0mn\u001b[0m\u001b[0;34m)\u001b[0m\u001b[0;34m\u001b[0m\u001b[0;34m\u001b[0m\u001b[0m\n\u001b[1;32m     15\u001b[0m \u001b[0;34m\u001b[0m\u001b[0m\n\u001b[0;32m---> 16\u001b[0;31m     \u001b[0mn1\u001b[0m \u001b[0;34m=\u001b[0m \u001b[0mint\u001b[0m\u001b[0;34m(\u001b[0m\u001b[0minput\u001b[0m\u001b[0;34m(\u001b[0m\u001b[0;34m\"Enter number 0 ~ 9 : \"\u001b[0m\u001b[0;34m)\u001b[0m\u001b[0;34m)\u001b[0m    \u001b[0;31m# 본인이 원하는 숫자 3개 입력\u001b[0m\u001b[0;34m\u001b[0m\u001b[0;34m\u001b[0m\u001b[0m\n\u001b[0m\u001b[1;32m     17\u001b[0m     \u001b[0mn2\u001b[0m \u001b[0;34m=\u001b[0m \u001b[0mint\u001b[0m\u001b[0;34m(\u001b[0m\u001b[0minput\u001b[0m\u001b[0;34m(\u001b[0m\u001b[0;34m\"Enter number 0 ~ 9 : \"\u001b[0m\u001b[0;34m)\u001b[0m\u001b[0;34m)\u001b[0m\u001b[0;34m\u001b[0m\u001b[0;34m\u001b[0m\u001b[0m\n\u001b[1;32m     18\u001b[0m     \u001b[0mn3\u001b[0m \u001b[0;34m=\u001b[0m \u001b[0mint\u001b[0m\u001b[0;34m(\u001b[0m\u001b[0minput\u001b[0m\u001b[0;34m(\u001b[0m\u001b[0;34m\"Enter number 0 ~ 9 : \"\u001b[0m\u001b[0;34m)\u001b[0m\u001b[0;34m)\u001b[0m\u001b[0;34m\u001b[0m\u001b[0;34m\u001b[0m\u001b[0m\n",
            "\u001b[0;32m/usr/local/lib/python3.10/dist-packages/ipykernel/kernelbase.py\u001b[0m in \u001b[0;36mraw_input\u001b[0;34m(self, prompt)\u001b[0m\n\u001b[1;32m    849\u001b[0m                 \u001b[0;34m\"raw_input was called, but this frontend does not support input requests.\"\u001b[0m\u001b[0;34m\u001b[0m\u001b[0;34m\u001b[0m\u001b[0m\n\u001b[1;32m    850\u001b[0m             )\n\u001b[0;32m--> 851\u001b[0;31m         return self._input_request(str(prompt),\n\u001b[0m\u001b[1;32m    852\u001b[0m             \u001b[0mself\u001b[0m\u001b[0;34m.\u001b[0m\u001b[0m_parent_ident\u001b[0m\u001b[0;34m,\u001b[0m\u001b[0;34m\u001b[0m\u001b[0;34m\u001b[0m\u001b[0m\n\u001b[1;32m    853\u001b[0m             \u001b[0mself\u001b[0m\u001b[0;34m.\u001b[0m\u001b[0m_parent_header\u001b[0m\u001b[0;34m,\u001b[0m\u001b[0;34m\u001b[0m\u001b[0;34m\u001b[0m\u001b[0m\n",
            "\u001b[0;32m/usr/local/lib/python3.10/dist-packages/ipykernel/kernelbase.py\u001b[0m in \u001b[0;36m_input_request\u001b[0;34m(self, prompt, ident, parent, password)\u001b[0m\n\u001b[1;32m    893\u001b[0m             \u001b[0;32mexcept\u001b[0m \u001b[0mKeyboardInterrupt\u001b[0m\u001b[0;34m:\u001b[0m\u001b[0;34m\u001b[0m\u001b[0;34m\u001b[0m\u001b[0m\n\u001b[1;32m    894\u001b[0m                 \u001b[0;31m# re-raise KeyboardInterrupt, to truncate traceback\u001b[0m\u001b[0;34m\u001b[0m\u001b[0;34m\u001b[0m\u001b[0m\n\u001b[0;32m--> 895\u001b[0;31m                 \u001b[0;32mraise\u001b[0m \u001b[0mKeyboardInterrupt\u001b[0m\u001b[0;34m(\u001b[0m\u001b[0;34m\"Interrupted by user\"\u001b[0m\u001b[0;34m)\u001b[0m \u001b[0;32mfrom\u001b[0m \u001b[0;32mNone\u001b[0m\u001b[0;34m\u001b[0m\u001b[0;34m\u001b[0m\u001b[0m\n\u001b[0m\u001b[1;32m    896\u001b[0m             \u001b[0;32mexcept\u001b[0m \u001b[0mException\u001b[0m \u001b[0;32mas\u001b[0m \u001b[0me\u001b[0m\u001b[0;34m:\u001b[0m\u001b[0;34m\u001b[0m\u001b[0;34m\u001b[0m\u001b[0m\n\u001b[1;32m    897\u001b[0m                 \u001b[0mself\u001b[0m\u001b[0;34m.\u001b[0m\u001b[0mlog\u001b[0m\u001b[0;34m.\u001b[0m\u001b[0mwarning\u001b[0m\u001b[0;34m(\u001b[0m\u001b[0;34m\"Invalid Message:\"\u001b[0m\u001b[0;34m,\u001b[0m \u001b[0mexc_info\u001b[0m\u001b[0;34m=\u001b[0m\u001b[0;32mTrue\u001b[0m\u001b[0;34m)\u001b[0m\u001b[0;34m\u001b[0m\u001b[0;34m\u001b[0m\u001b[0m\n",
            "\u001b[0;31mKeyboardInterrupt\u001b[0m: Interrupted by user"
          ]
        }
      ]
    },
    {
      "cell_type": "code",
      "source": [
        "# 프로그램 7\n",
        "round = 0\n",
        "strike = 0\n",
        "ball = 0\n",
        "while round < 9:\n",
        "    round = round + 1\n",
        "    print(f'      [ {round} Round ]')\n",
        "    if n1 == lst[0]:\n",
        "        strike = strike + 1\n",
        "    if n2 == lst[1]:\n",
        "        strike = strike + 1\n",
        "    if n3 == lst[2]:\n",
        "        strike = strike + 1\n",
        "    if n1 in lst and n1 != lst[0]:\n",
        "        ball = ball + 1\n",
        "    if n2 in lst and n2 != lst[1]:\n",
        "        ball = ball + 1\n",
        "    if n3 in lst and n3 != lst[2]:\n",
        "        ball = ball + 1\n",
        "    if n1 not in lst and n2 not in lst and n3 not in lst:\n",
        "        print(f'        [ Out ]')\n",
        "    else:\n",
        "        print(f' [Strike: {strike}, Ball: {ball} ]')\n",
        "        strike = 0\n",
        "        ball = 0\n",
        "    import random\n",
        "    lst = []\n",
        "    for i in range(3):\n",
        "        n = random.randint(0, 9)\n",
        "        while n in lst:\n",
        "            n = random.randint(0, 9)\n",
        "        lst.append(n)\n",
        "    print(lst)\n",
        "    n1 = int(input(\"Enter number 1 ~ 9 : \"))\n",
        "    n2 = int(input(\"Enter number 1 ~ 9 : \"))\n",
        "    n3 = int(input(\"Enter number 1 ~ 9 : \"))"
      ],
      "metadata": {
        "id": "k79EoA5M5U_z",
        "colab": {
          "base_uri": "https://localhost:8080/",
          "height": 228
        },
        "outputId": "d9dc57c6-c9b5-433d-c9d6-7b007c69aee5"
      },
      "execution_count": null,
      "outputs": [
        {
          "output_type": "stream",
          "name": "stdout",
          "text": [
            "      [ 1 Round ]\n"
          ]
        },
        {
          "output_type": "error",
          "ename": "NameError",
          "evalue": "name 'n1' is not defined",
          "traceback": [
            "\u001b[0;31m---------------------------------------------------------------------------\u001b[0m",
            "\u001b[0;31mNameError\u001b[0m                                 Traceback (most recent call last)",
            "\u001b[0;32m<ipython-input-49-573fb635f776>\u001b[0m in \u001b[0;36m<cell line: 5>\u001b[0;34m()\u001b[0m\n\u001b[1;32m      6\u001b[0m     \u001b[0mround\u001b[0m \u001b[0;34m=\u001b[0m \u001b[0mround\u001b[0m \u001b[0;34m+\u001b[0m \u001b[0;36m1\u001b[0m\u001b[0;34m\u001b[0m\u001b[0;34m\u001b[0m\u001b[0m\n\u001b[1;32m      7\u001b[0m     \u001b[0mprint\u001b[0m\u001b[0;34m(\u001b[0m\u001b[0;34mf'      [ {round} Round ]'\u001b[0m\u001b[0;34m)\u001b[0m\u001b[0;34m\u001b[0m\u001b[0;34m\u001b[0m\u001b[0m\n\u001b[0;32m----> 8\u001b[0;31m     \u001b[0;32mif\u001b[0m \u001b[0mn1\u001b[0m \u001b[0;34m==\u001b[0m \u001b[0mlst\u001b[0m\u001b[0;34m[\u001b[0m\u001b[0;36m0\u001b[0m\u001b[0;34m]\u001b[0m\u001b[0;34m:\u001b[0m\u001b[0;34m\u001b[0m\u001b[0;34m\u001b[0m\u001b[0m\n\u001b[0m\u001b[1;32m      9\u001b[0m         \u001b[0mstrike\u001b[0m \u001b[0;34m=\u001b[0m \u001b[0mstrike\u001b[0m \u001b[0;34m+\u001b[0m \u001b[0;36m1\u001b[0m\u001b[0;34m\u001b[0m\u001b[0;34m\u001b[0m\u001b[0m\n\u001b[1;32m     10\u001b[0m     \u001b[0;32mif\u001b[0m \u001b[0mn2\u001b[0m \u001b[0;34m==\u001b[0m \u001b[0mlst\u001b[0m\u001b[0;34m[\u001b[0m\u001b[0;36m1\u001b[0m\u001b[0;34m]\u001b[0m\u001b[0;34m:\u001b[0m\u001b[0;34m\u001b[0m\u001b[0;34m\u001b[0m\u001b[0m\n",
            "\u001b[0;31mNameError\u001b[0m: name 'n1' is not defined"
          ]
        }
      ]
    },
    {
      "cell_type": "code",
      "source": [],
      "metadata": {
        "id": "XCm8r04-sIqq"
      },
      "execution_count": null,
      "outputs": []
    }
  ]
}